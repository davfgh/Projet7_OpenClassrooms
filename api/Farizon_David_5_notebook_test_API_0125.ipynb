{
 "cells": [
  {
   "cell_type": "markdown",
   "metadata": {},
   "source": [
    "# Initialisation"
   ]
  },
  {
   "cell_type": "code",
   "execution_count": 1,
   "metadata": {},
   "outputs": [
    {
     "name": "stderr",
     "output_type": "stream",
     "text": [
      "d:\\Pro\\OpenClassrooms\\Projet_7\\3_dossier_code_012025\\.venv\\Lib\\site-packages\\tqdm\\auto.py:21: TqdmWarning: IProgress not found. Please update jupyter and ipywidgets. See https://ipywidgets.readthedocs.io/en/stable/user_install.html\n",
      "  from .autonotebook import tqdm as notebook_tqdm\n"
     ]
    }
   ],
   "source": [
    "import sys\n",
    "import notebook\n",
    "import requests\n",
    "import json\n",
    "import re\n",
    "import subprocess\n",
    "import os\n",
    "import time\n",
    "import random\n",
    "import subprocess\n",
    "import numpy as np\n",
    "import pandas as pd\n",
    "import mlflow\n",
    "import pickle\n",
    "import shap\n",
    "import matplotlib.pyplot as plt"
   ]
  },
  {
   "cell_type": "code",
   "execution_count": 2,
   "metadata": {},
   "outputs": [],
   "source": [
    "os.environ[\"JOBLIB_TEMP_FOLDER\"] = \"D:/Pro/OpenClassrooms/Projet_7/tmp\""
   ]
  },
  {
   "cell_type": "code",
   "execution_count": 3,
   "metadata": {},
   "outputs": [],
   "source": [
    "packages = {\n",
    "    \"Python\": sys,\n",
    "    \"Jupyter Notebook\": \"notebook\",\n",
    "    \"NumPy\": \"numpy\",\n",
    "    \"Pandas\": \"pandas\",\n",
    "    \"MLFlow\": \"mlflow\"\n",
    "}"
   ]
  },
  {
   "cell_type": "code",
   "execution_count": 4,
   "metadata": {},
   "outputs": [
    {
     "name": "stdout",
     "output_type": "stream",
     "text": [
      "Version de Python : 3.12.8 | packaged by Anaconda, Inc. | (main, Dec 11 2024, 16:48:34) [MSC v.1929 64 bit (AMD64)]\n",
      "Version de Jupyter Notebook : 7.3.2\n",
      "Version de NumPy : 2.1.3\n",
      "Version de Pandas : 2.2.3\n",
      "Version de MLFlow : 2.19.0\n"
     ]
    }
   ],
   "source": [
    "errorMsg = (\n",
    "    \"non disponible - vérifiez que le package existe, qu'il est correctement installé, importé \"\n",
    "    \"et qu'il dispose d'un attribut '__version__'.\"\n",
    ")\n",
    "for name, module in packages.items():\n",
    "    if isinstance(module, str):\n",
    "        version = getattr(sys.modules.get(module, None), '__version__', errorMsg)\n",
    "    else:\n",
    "        if module is sys:\n",
    "            version = sys.version\n",
    "        else:\n",
    "            version = getattr(module, '__version__', errorMsg)\n",
    "\n",
    "    print(f\"Version de {name} : {version}\")"
   ]
  },
  {
   "cell_type": "code",
   "execution_count": 5,
   "metadata": {},
   "outputs": [],
   "source": [
    "# Chemins\n",
    "pro_repo = \"D://Pro//OpenClassrooms//Projet_7//\"\n",
    "data_path = f\"{pro_repo}data//\""
   ]
  },
  {
   "cell_type": "code",
   "execution_count": 6,
   "metadata": {},
   "outputs": [
    {
     "name": "stdout",
     "output_type": "stream",
     "text": [
      "✅ Fichier Pickle chargé avec succès !\n",
      "\n",
      "📂 Contenu du fichier Pickle :\n",
      "🔹 model -> Type: <class 'lightgbm.sklearn.LGBMClassifier'>\n",
      "🔹 optimal_threshold -> Type: <class 'numpy.float64'>\n",
      "🔹 features -> Type: <class 'list'>\n",
      "\n",
      "✅ Modèle chargé avec succès : <class 'lightgbm.sklearn.LGBMClassifier'>\n",
      "🔍 Le modèle supporte bien `predict_proba`.\n",
      "✅ Prédiction test réussi : [[0.70513263 0.29486737]]\n",
      "\n",
      "📌 Seuil optimal stocké : 0.470\n"
     ]
    },
    {
     "name": "stderr",
     "output_type": "stream",
     "text": [
      "d:\\Pro\\OpenClassrooms\\Projet_7\\3_dossier_code_012025\\.venv\\Lib\\site-packages\\sklearn\\utils\\deprecation.py:151: FutureWarning: 'force_all_finite' was renamed to 'ensure_all_finite' in 1.6 and will be removed in 1.8.\n",
      "  warnings.warn(\n"
     ]
    }
   ],
   "source": [
    "# 📌 Chemin vers le fichier pickle\n",
    "base_dir = os.path.dirname(os.getcwd())\n",
    "file_path = os.path.join(base_dir, \"models\", \"lgbm_final_model.pkl\")\n",
    "\n",
    "# ✅ Vérification de l'existence du fichier\n",
    "if not os.path.exists(file_path):\n",
    "    print(f\"❌ Erreur : Le fichier '{file_path}' n'existe pas.\")\n",
    "else:\n",
    "    # 🚀 Chargement du fichier pickle\n",
    "    with open(file_path, \"rb\") as f:\n",
    "        model_data = pickle.load(f)\n",
    "\n",
    "    print(\"✅ Fichier Pickle chargé avec succès !\")\n",
    "\n",
    "    # 🔍 Afficher les clés du dictionnaire stocké\n",
    "    print(\"\\n📂 Contenu du fichier Pickle :\")\n",
    "    for key in model_data.keys():\n",
    "        print(f\"🔹 {key} -> Type: {type(model_data[key])}\")\n",
    "\n",
    "    # 📊 Vérifier le modèle\n",
    "    if \"model\" in model_data:\n",
    "        model = model_data[\"model\"]\n",
    "        print(\"\\n✅ Modèle chargé avec succès :\", type(model))\n",
    "\n",
    "        # 🔬 Vérification si le modèle est bien entraîné\n",
    "        if hasattr(model, \"predict_proba\"):\n",
    "            print(\"🔍 Le modèle supporte bien `predict_proba`.\")\n",
    "\n",
    "            # ⚡ Test rapide de prédiction avec des données factices\n",
    "            fake_input = np.random.rand(1, model.n_features_in_)\n",
    "            try:\n",
    "                fake_prediction = model.predict_proba(fake_input)\n",
    "                print(f\"✅ Prédiction test réussi : {fake_prediction}\")\n",
    "            except Exception as e:\n",
    "                print(f\"❌ Erreur lors du test de prédiction : {e}\")\n",
    "\n",
    "    # 📊 Vérifier le seuil optimal stocké\n",
    "    if \"optimal_threshold\" in model_data:\n",
    "        print(f\"\\n📌 Seuil optimal stocké : {model_data['optimal_threshold']:.3f}\")\n",
    "    else:\n",
    "        print(\"\\n⚠️ Avertissement : Aucun seuil optimal trouvé dans le fichier Pickle.\")"
   ]
  },
  {
   "cell_type": "code",
   "execution_count": 7,
   "metadata": {},
   "outputs": [],
   "source": [
    "# # Test rapide de l'API\n",
    "\n",
    "# # 📌 Définition de l'URL de l'API Flask\n",
    "# api_url = \"http://127.0.0.1:5000/predict\"\n",
    "# # 📌 Création d'un échantillon de test avec des valeurs arbitraires\n",
    "# test_features = {\n",
    "#     \"feature1\": 0.5,\n",
    "#     \"feature2\": 1.2,\n",
    "#     \"feature3\": -0.8\n",
    "# }\n",
    "\n",
    "# # 📌 Envoi de la requête POST à l'API\n",
    "# response = requests.post(api_url, json=test_features)\n",
    "\n",
    "# # 📌 Affichage du résultat\n",
    "# if response.status_code == 200:\n",
    "#     print(\"✅ Réponse de l'API :\", response.json())\n",
    "# else:\n",
    "#     print(f\"❌ Erreur {response.status_code} : {response.text}\")"
   ]
  },
  {
   "cell_type": "markdown",
   "metadata": {},
   "source": [
    "# Test de l'endpoint predict"
   ]
  },
  {
   "cell_type": "code",
   "execution_count": 8,
   "metadata": {},
   "outputs": [
    {
     "name": "stdout",
     "output_type": "stream",
     "text": [
      "📌 Données envoyées à l'API (17 features) :\n"
     ]
    },
    {
     "data": {
      "text/html": [
       "<div>\n",
       "<style scoped>\n",
       "    .dataframe tbody tr th:only-of-type {\n",
       "        vertical-align: middle;\n",
       "    }\n",
       "\n",
       "    .dataframe tbody tr th {\n",
       "        vertical-align: top;\n",
       "    }\n",
       "\n",
       "    .dataframe thead th {\n",
       "        text-align: right;\n",
       "    }\n",
       "</style>\n",
       "<table border=\"1\" class=\"dataframe\">\n",
       "  <thead>\n",
       "    <tr style=\"text-align: right;\">\n",
       "      <th></th>\n",
       "      <th>Feature</th>\n",
       "      <th>Valeur</th>\n",
       "    </tr>\n",
       "  </thead>\n",
       "  <tbody>\n",
       "    <tr>\n",
       "      <th>0</th>\n",
       "      <td>AMT_ANNUITY</td>\n",
       "      <td>0.253205</td>\n",
       "    </tr>\n",
       "    <tr>\n",
       "      <th>1</th>\n",
       "      <td>AMT_CREDIT</td>\n",
       "      <td>0.521420</td>\n",
       "    </tr>\n",
       "    <tr>\n",
       "      <th>2</th>\n",
       "      <td>AMT_GOODS_PRICE</td>\n",
       "      <td>0.305964</td>\n",
       "    </tr>\n",
       "    <tr>\n",
       "      <th>3</th>\n",
       "      <td>ANNUITY_INCOME_PERCENT</td>\n",
       "      <td>0.391191</td>\n",
       "    </tr>\n",
       "    <tr>\n",
       "      <th>4</th>\n",
       "      <td>CREDIT_GOODS_RATIO</td>\n",
       "      <td>0.870823</td>\n",
       "    </tr>\n",
       "    <tr>\n",
       "      <th>5</th>\n",
       "      <td>CREDIT_TERM</td>\n",
       "      <td>0.221080</td>\n",
       "    </tr>\n",
       "    <tr>\n",
       "      <th>6</th>\n",
       "      <td>DAYS_BIRTH</td>\n",
       "      <td>0.500729</td>\n",
       "    </tr>\n",
       "    <tr>\n",
       "      <th>7</th>\n",
       "      <td>DAYS_ID_PUBLISH</td>\n",
       "      <td>0.708743</td>\n",
       "    </tr>\n",
       "    <tr>\n",
       "      <th>8</th>\n",
       "      <td>DAYS_REGISTRATION</td>\n",
       "      <td>0.606360</td>\n",
       "    </tr>\n",
       "    <tr>\n",
       "      <th>9</th>\n",
       "      <td>DEBT_CREDIT_RATIO</td>\n",
       "      <td>0.550148</td>\n",
       "    </tr>\n",
       "    <tr>\n",
       "      <th>10</th>\n",
       "      <td>EXT_SOURCE_1</td>\n",
       "      <td>0.178116</td>\n",
       "    </tr>\n",
       "    <tr>\n",
       "      <th>11</th>\n",
       "      <td>EXT_SOURCE_2</td>\n",
       "      <td>0.304209</td>\n",
       "    </tr>\n",
       "    <tr>\n",
       "      <th>12</th>\n",
       "      <td>EXT_SOURCE_3</td>\n",
       "      <td>0.434466</td>\n",
       "    </tr>\n",
       "    <tr>\n",
       "      <th>13</th>\n",
       "      <td>INSTA_AMT_PAYMENT</td>\n",
       "      <td>0.393337</td>\n",
       "    </tr>\n",
       "    <tr>\n",
       "      <th>14</th>\n",
       "      <td>INSTA_NUM_INSTALMENT_VERSION</td>\n",
       "      <td>0.541451</td>\n",
       "    </tr>\n",
       "    <tr>\n",
       "      <th>15</th>\n",
       "      <td>POS_CNT_INSTALMENT_FUTURE</td>\n",
       "      <td>0.381654</td>\n",
       "    </tr>\n",
       "    <tr>\n",
       "      <th>16</th>\n",
       "      <td>PREV_CNT_PAYMENT</td>\n",
       "      <td>0.022703</td>\n",
       "    </tr>\n",
       "  </tbody>\n",
       "</table>\n",
       "</div>"
      ],
      "text/plain": [
       "                         Feature    Valeur\n",
       "0                    AMT_ANNUITY  0.253205\n",
       "1                     AMT_CREDIT  0.521420\n",
       "2                AMT_GOODS_PRICE  0.305964\n",
       "3         ANNUITY_INCOME_PERCENT  0.391191\n",
       "4             CREDIT_GOODS_RATIO  0.870823\n",
       "5                    CREDIT_TERM  0.221080\n",
       "6                     DAYS_BIRTH  0.500729\n",
       "7                DAYS_ID_PUBLISH  0.708743\n",
       "8              DAYS_REGISTRATION  0.606360\n",
       "9              DEBT_CREDIT_RATIO  0.550148\n",
       "10                  EXT_SOURCE_1  0.178116\n",
       "11                  EXT_SOURCE_2  0.304209\n",
       "12                  EXT_SOURCE_3  0.434466\n",
       "13             INSTA_AMT_PAYMENT  0.393337\n",
       "14  INSTA_NUM_INSTALMENT_VERSION  0.541451\n",
       "15     POS_CNT_INSTALMENT_FUTURE  0.381654\n",
       "16              PREV_CNT_PAYMENT  0.022703"
      ]
     },
     "metadata": {},
     "output_type": "display_data"
    },
    {
     "name": "stdout",
     "output_type": "stream",
     "text": [
      "\n",
      "✅ Résultat de l'API :\n",
      "🔹 Probabilité d'appartenir à la classe 0 (fiable) : 0.518\n",
      "🔹 Probabilité d'appartenir à la classe 1 (risqué) : 0.482\n",
      "🔹 Seuil optimal : 0.470\n",
      "🔹 Marge appliquée : 0.000%\n",
      "🔹 Limites de la zone grise : [0.470, 0.470]\n",
      "🔹 Résultat final : Classe_1 (risqué)\n"
     ]
    }
   ],
   "source": [
    "# ✅ Extraction des features uniquement\n",
    "if \"features\" in model_data:\n",
    "    features_list = model_data[\"features\"]\n",
    "\n",
    "    # 📌 Générer un DataFrame avec les bonnes colonnes\n",
    "    app_test_features = pd.DataFrame(columns=features_list)\n",
    "\n",
    "    # 📌 Ajouter une ligne aléatoire avec des valeurs simulées\n",
    "    app_test_features.loc[0] = np.random.rand(len(features_list))\n",
    "\n",
    "    # 📌 Sélection d'une ligne aléatoire sous forme de dictionnaire\n",
    "    random_sample = app_test_features.iloc[0].to_dict()\n",
    "\n",
    "    # 📌 Affichage des données envoyées sous forme de tableau\n",
    "    print(f\"📌 Données envoyées à l'API ({len(features_list)} features) :\")\n",
    "    df_sample = pd.DataFrame(random_sample.items(), columns=[\"Feature\", \"Valeur\"])\n",
    "    display(df_sample)\n",
    "\n",
    "# 📌 Envoi de la requête à l'API locale\n",
    "api_url = \"http://127.0.0.1:5000/predict\"\n",
    "\n",
    "try:\n",
    "    response = requests.post(api_url, json=random_sample)\n",
    "\n",
    "    # 📌 Affichage du résultat détaillé\n",
    "    if response.status_code == 200:\n",
    "        response_data = response.json()\n",
    "\n",
    "        print(\"\\n✅ Résultat de l'API :\")\n",
    "        print(f\"🔹 Probabilité d'appartenir à la classe 0 (fiable) : {response_data['probability_class_0']:.3f}\")\n",
    "        print(f\"🔹 Probabilité d'appartenir à la classe 1 (risqué) : {response_data['probability_class_1']:.3f}\")\n",
    "        print(f\"🔹 Seuil optimal : {response_data['optimal_threshold']:.3f}\")\n",
    "        print(f\"🔹 Marge appliquée : {response_data['margin']:.3f}%\")\n",
    "        print(f\"🔹 Limites de la zone grise : [{response_data['lower_bound']:.3f}, {response_data['upper_bound']:.3f}]\")\n",
    "        print(f\"🔹 Résultat final : {response_data['prediction']}\")\n",
    "\n",
    "    else:\n",
    "        print(f\"❌ Erreur lors de l'appel API : {response.status_code}, {response.text}\")\n",
    "\n",
    "except requests.exceptions.RequestException as e:\n",
    "    print(f\"❌ Erreur de connexion à l'API : {e}\")"
   ]
  },
  {
   "cell_type": "markdown",
   "metadata": {},
   "source": [
    "# Test de l'endpoint SHAP"
   ]
  },
  {
   "cell_type": "code",
   "execution_count": 10,
   "metadata": {},
   "outputs": [
    {
     "name": "stdout",
     "output_type": "stream",
     "text": [
      "✅ Données SHAP reçues avec succès depuis l'API !\n",
      "📌 SHAP values shape : (1, 17)\n",
      "📌 Feature names count : 17\n",
      "📌 Sample values shape : (1, 17)\n"
     ]
    },
    {
     "data": {
      "image/png": "[encoded data removed]",
      "text/plain": [
       "<Figure size 800x700 with 3 Axes>"
      ]
     },
     "metadata": {},
     "output_type": "display_data"
    }
   ],
   "source": [
    "# 📌 Endpoint de l'API pour récupérer les SHAP values\n",
    "api_shap_url = \"http://127.0.0.1:5000/shap_values\"\n",
    "\n",
    "try:\n",
    "    response = requests.get(api_shap_url)\n",
    "\n",
    "    if response.status_code == 200:\n",
    "        shap_data = response.json()\n",
    "\n",
    "        # 🔍 Extraction des données de l'API\n",
    "        shap_values = np.array(shap_data[\"shap_values\"]).reshape(1, -1)  # Assurer (1, 17)\n",
    "        feature_names = shap_data[\"features_names\"]\n",
    "        sample_values = np.array(shap_data[\"sample_values\"]).reshape(1, -1)  # Même format (1, 17)\n",
    "        base_values = shap_data[\"base_values\"]\n",
    "\n",
    "        print(\"✅ Données SHAP reçues avec succès depuis l'API !\")\n",
    "\n",
    "        # 📌 Vérification des dimensions après correction\n",
    "        print(f\"📌 SHAP values shape : {shap_values.shape}\")\n",
    "        print(f\"📌 Feature names count : {len(feature_names)}\")\n",
    "        print(f\"📌 Sample values shape : {sample_values.shape}\")\n",
    "\n",
    "        # 📌 Sélection d'un client aléatoire si plusieurs disponibles\n",
    "        if shap_values.shape[0] > 1:\n",
    "            random_idx = np.random.randint(0, shap_values.shape[0])\n",
    "            shap_values = shap_values[random_idx].reshape(1, -1)\n",
    "            sample_values = sample_values[random_idx].reshape(1, -1)\n",
    "            print(f\"🎲 Client aléatoire sélectionné : {random_idx}\")\n",
    "\n",
    "        # 📌 Création d'un objet SHAP Explanation pour afficher la figure waterfall (comme Streamlit)\n",
    "        explainer = shap.Explanation(\n",
    "            values=shap_values[0],  # Prendre la première (et unique) ligne\n",
    "            base_values=base_values,\n",
    "            data=sample_values[0],  # Correspondance avec les features\n",
    "            feature_names=feature_names\n",
    "        )\n",
    "\n",
    "        # 📊 Génération et affichage du Waterfall Plot (même rendu que dans Streamlit)\n",
    "        fig, ax = plt.subplots(figsize=(10, 8))\n",
    "        shap.waterfall_plot(explainer, max_display=11, show=False)\n",
    "        plt.title(\"Impact des principales features sur la prédiction du modèle\")\n",
    "        plt.show()\n",
    "\n",
    "    else:\n",
    "        print(f\"❌ Erreur lors de l'appel API : {response.status_code}, {response.text}\")\n",
    "\n",
    "except requests.exceptions.RequestException as e:\n",
    "    print(f\"❌ Erreur de connexion à l'API : {e}\")"
   ]
  },
  {
   "cell_type": "code",
   "execution_count": 11,
   "metadata": {},
   "outputs": [],
   "source": [
    "# api_url = \"http://127.0.0.1:5000/predict\"\n",
    "# response = requests.post(api_url, json={})\n",
    "\n",
    "# print(f\"🔍 Code HTTP : {response.status_code}\")\n",
    "# print(f\"📝 Réponse : {response.text}\")"
   ]
  },
  {
   "cell_type": "code",
   "execution_count": null,
   "metadata": {},
   "outputs": [
    {
     "ename": "",
     "evalue": "",
     "output_type": "error",
     "traceback": [
      "\u001b[1;31mLe noyau s’est bloqué lors de l’exécution du code dans une cellule active ou une cellule précédente. \n",
      "\u001b[1;31mVeuillez vérifier le code dans la ou les cellules pour identifier une cause possible de l’échec. \n",
      "\u001b[1;31mCliquez <a href='https://aka.ms/vscodeJupyterKernelCrash'>ici</a> pour plus d’informations. \n",
      "\u001b[1;31mPour plus d’informations, consultez Jupyter <a href='command:jupyter.viewOutput'>log</a>."
     ]
    }
   ],
   "source": [
    "# print(\"📌 Features du modèle :\", features_list)\n",
    "# print(type(features_list))\n",
    "# print(\"📌 Données envoyées à l'API :\", random_sample)"
   ]
  },
  {
   "cell_type": "markdown",
   "metadata": {},
   "source": [
    "# Commandes"
   ]
  },
  {
   "cell_type": "raw",
   "metadata": {
    "vscode": {
     "languageId": "raw"
    }
   },
   "source": [
    "# Activer l'environement (avec .venv):\n",
    "cd 3_dossier_code_012025\n",
    "cd D:\\Pro\\OpenClassrooms\\Projet_7\\3_dossier_code_012025\n",
    "Set-ExecutionPolicy -Scope Process -ExecutionPolicy Bypass\n",
    "D:\\Pro\\OpenClassrooms\\Projet_7\\.venv\\Scripts\\Activate.ps1\n",
    "\n",
    "# Installer package\n",
    "pip install [...]\n",
    "\n",
    "# Activer l'environement (avec Anaconda):\n",
    "conda activate D:/Pro/Env\n",
    "\n",
    "# Lancer l'UI MLflow :\n",
    "mlflow ui --backend-store-uri sqlite:///mlruns.db\n",
    "mlflow ui --backend-store-uri file:D:/Pro/OpenClassrooms/Projet_7/mlruns/\n",
    "\n",
    "# Lancer l'API Flask\n",
    "taskkill /F /IM python.exe\n",
    "cd api\n",
    "python app.py\n",
    "\n",
    "# Lancer Streamlit\n",
    "cd streamlit_app\n",
    "streamlit run streamlit_app.py\n",
    "\n",
    "# Générer le rapport evidently\n",
    "cd evidently\n",
    "python generate-evidently-report.py\n",
    "\n",
    "# Accéder au serveur MLflow (dans le navigateur) :\n",
    "http://127.0.0.1:5000\n",
    "\n",
    "# Test unitaire avec PyTest\n",
    "pytest tests/\n",
    "pytest tests/test_api.py\n",
    "\n",
    "# Pousser les modifications sur Git\n",
    "git add .\n",
    "git commit -m \"Modifications...\"\n",
    "# Sur branche de dévloppement\n",
    "git push origin ajout-tests-ci\n",
    "# Sur branche principale\n",
    "git push origin main\n",
    "\n",
    "# Logs Azure\n",
    "az webapp log tail --name prediction-api --resource-group cloud-shell-storage-westeurope"
   ]
  }
 ],
 "metadata": {
  "kernelspec": {
   "display_name": ".venv",
   "language": "python",
   "name": "python3"
  },
  "language_info": {
   "codemirror_mode": {
    "name": "ipython",
    "version": 3
   },
   "file_extension": ".py",
   "mimetype": "text/x-python",
   "name": "python",
   "nbconvert_exporter": "python",
   "pygments_lexer": "ipython3",
   "version": "3.12.8"
  }
 },
 "nbformat": 4,
 "nbformat_minor": 2
}
